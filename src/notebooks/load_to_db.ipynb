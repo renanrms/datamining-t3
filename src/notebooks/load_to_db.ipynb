{
 "cells": [
  {
   "cell_type": "code",
   "execution_count": null,
   "id": "7489bf33",
   "metadata": {},
   "outputs": [],
   "source": [
    "import os\n",
    "\n",
    "import sys\n",
    "sys.path.append(os.path.abspath(os.path.join(os.getcwd(), '..')))\n",
    "\n",
    "import geopandas as gpd\n",
    "\n",
    "from src.database.connection import connection\n",
    "from src.database.import_all_data import import_all_data\n",
    "from src.database.create_database_schema import create_database_schema\n",
    "from src.database.clean_tables import clean_tables\n"
   ]
  },
  {
   "cell_type": "markdown",
   "id": "6d53efe0",
   "metadata": {},
   "source": [
    "## Inicializa o banco criando as tabelas"
   ]
  },
  {
   "cell_type": "code",
   "execution_count": 2,
   "id": "246f1e13",
   "metadata": {},
   "outputs": [],
   "source": [
    "create_database_schema(connection)"
   ]
  },
  {
   "cell_type": "markdown",
   "id": "86939cb7",
   "metadata": {},
   "source": [
    "## Apaga os dados das tabelas"
   ]
  },
  {
   "cell_type": "code",
   "execution_count": null,
   "id": "aba79c7d",
   "metadata": {},
   "outputs": [],
   "source": [
    "# clean_tables(connection)"
   ]
  },
  {
   "cell_type": "markdown",
   "id": "e65b3a38",
   "metadata": {},
   "source": [
    "## Carrega os dados de treino"
   ]
  },
  {
   "cell_type": "code",
   "execution_count": null,
   "id": "b5991c62",
   "metadata": {},
   "outputs": [
    {
     "name": "stderr",
     "output_type": "stream",
     "text": [
      "INFO:general.logging:Processando dia: 2024-04-25\n",
      "INFO:general.logging:  2024-04-25_00.json: 237353 registros adicionados\n",
      "INFO:general.logging:  2024-04-25_01.json: 165706 registros adicionados\n",
      "INFO:general.logging:  2024-04-25_02.json: 108508 registros adicionados\n",
      "INFO:general.logging:  2024-04-25_03.json: 107648 registros adicionados\n",
      "INFO:general.logging:  2024-04-25_04.json: 152391 registros adicionados\n",
      "INFO:general.logging:  2024-04-25_05.json: 280189 registros adicionados\n",
      "INFO:general.logging:  2024-04-25_06.json: 442042 registros adicionados\n",
      "INFO:general.logging:  2024-04-25_07.json: 525992 registros adicionados\n",
      "INFO:general.logging:  2024-04-25_08.json: 535159 registros adicionados\n",
      "INFO:general.logging:  2024-04-25_09.json: 542600 registros adicionados\n",
      "INFO:general.logging:  2024-04-25_10.json: 533397 registros adicionados\n",
      "INFO:general.logging:  2024-04-25_11.json: 520829 registros adicionados\n",
      "INFO:general.logging:  2024-04-25_12.json: 511765 registros adicionados\n",
      "INFO:general.logging:  2024-04-25_13.json: 499388 registros adicionados\n",
      "INFO:general.logging:  2024-04-25_14.json: 499522 registros adicionados\n",
      "INFO:general.logging:  2024-04-25_15.json: 505316 registros adicionados\n",
      "INFO:general.logging:  2024-04-25_16.json: 508832 registros adicionados\n",
      "INFO:general.logging:  2024-04-25_17.json: 518007 registros adicionados\n",
      "INFO:general.logging:  2024-04-25_18.json: 521818 registros adicionados\n",
      "INFO:general.logging:  2024-04-25_19.json: 520015 registros adicionados\n",
      "INFO:general.logging:  2024-04-25_20.json: 505446 registros adicionados\n",
      "INFO:general.logging:  2024-04-25_21.json: 477341 registros adicionados\n",
      "INFO:general.logging:  2024-04-25_22.json: 418046 registros adicionados\n",
      "INFO:general.logging:  2024-04-25_23.json: 333999 registros adicionados\n",
      "INFO:general.logging:Processando dia: 2024-04-26\n",
      "INFO:general.logging:  2024-04-26_00.json: 240462 registros adicionados\n",
      "INFO:general.logging:  2024-04-26_01.json: 150455 registros adicionados\n",
      "INFO:general.logging:  2024-04-26_02.json: 104214 registros adicionados\n",
      "INFO:general.logging:  2024-04-26_03.json: 100832 registros adicionados\n",
      "INFO:general.logging:  2024-04-26_04.json: 143892 registros adicionados\n",
      "INFO:general.logging:  2024-04-26_05.json: 280719 registros adicionados\n",
      "INFO:general.logging:  2024-04-26_06.json: 440982 registros adicionados\n",
      "INFO:general.logging:  2024-04-26_07.json: 519453 registros adicionados\n",
      "INFO:general.logging:  2024-04-26_08.json: 530090 registros adicionados\n",
      "INFO:general.logging:  2024-04-26_09.json: 540176 registros adicionados\n",
      "INFO:general.logging:  2024-04-26_10.json: 529378 registros adicionados\n",
      "INFO:general.logging:  2024-04-26_11.json: 516773 registros adicionados\n",
      "INFO:general.logging:  2024-04-26_12.json: 509657 registros adicionados\n",
      "INFO:general.logging:  2024-04-26_13.json: 490705 registros adicionados\n",
      "INFO:general.logging:  2024-04-26_14.json: 488036 registros adicionados\n",
      "INFO:general.logging:  2024-04-26_15.json: 493774 registros adicionados\n",
      "INFO:general.logging:  2024-04-26_16.json: 501904 registros adicionados\n",
      "INFO:general.logging:  2024-04-26_17.json: 518246 registros adicionados\n",
      "INFO:general.logging:  2024-04-26_18.json: 523384 registros adicionados\n",
      "INFO:general.logging:  2024-04-26_19.json: 522717 registros adicionados\n",
      "INFO:general.logging:  2024-04-26_20.json: 506557 registros adicionados\n",
      "INFO:general.logging:  2024-04-26_21.json: 480671 registros adicionados\n",
      "INFO:general.logging:  2024-04-26_22.json: 423462 registros adicionados\n",
      "INFO:general.logging:  2024-04-26_23.json: 334960 registros adicionados\n",
      "INFO:general.logging:Processando dia: 2024-04-27\n",
      "INFO:general.logging:  2024-04-27_00.json: 153392 registros adicionados\n",
      "INFO:general.logging:  2024-04-27_01.json: 153302 registros adicionados\n",
      "INFO:general.logging:  2024-04-27_02.json: 103153 registros adicionados\n",
      "INFO:general.logging:  2024-04-27_03.json: 90821 registros adicionados\n",
      "INFO:general.logging:  2024-04-27_04.json: 105967 registros adicionados\n",
      "INFO:general.logging:  2024-04-27_05.json: 173397 registros adicionados\n",
      "INFO:general.logging:  2024-04-27_06.json: 280113 registros adicionados\n",
      "INFO:general.logging:  2024-04-27_07.json: 343178 registros adicionados\n",
      "INFO:general.logging:  2024-04-27_08.json: 362255 registros adicionados\n",
      "INFO:general.logging:  2024-04-27_09.json: 371558 registros adicionados\n",
      "INFO:general.logging:  2024-04-27_10.json: 375152 registros adicionados\n"
     ]
    }
   ],
   "source": [
    "import_all_data(connection)"
   ]
  },
  {
   "cell_type": "code",
   "execution_count": null,
   "id": "a5ff9dde",
   "metadata": {},
   "outputs": [],
   "source": [
    "# Consulta para filtrar pontos válidos (08:00-23:00 e dentro de 30m do trajeto)\n",
    "query = \"\"\"\n",
    "SELECT orden, ST_X(geom) as lon, ST_Y(geom) as lat, datahora\n",
    "FROM pontos_gps\n",
    "WHERE\n",
    "    EXTRACT(HOUR FROM datahora) BETWEEN 8 AND 23 AND\n",
    "    ST_DWithin(geom, (SELECT geom FROM trajetos WHERE linha = '2336'), 30)\n",
    "\"\"\"\n",
    "\n",
    "# Transforma direto em GeoDataFrame\n",
    "gdf = gpd.GeoDataFrame.from_postgis(query, connection, geom_col=\"geom\")"
   ]
  }
 ],
 "metadata": {
  "kernelspec": {
   "display_name": ".venv",
   "language": "python",
   "name": "python3"
  },
  "language_info": {
   "codemirror_mode": {
    "name": "ipython",
    "version": 3
   },
   "file_extension": ".py",
   "mimetype": "text/x-python",
   "name": "python",
   "nbconvert_exporter": "python",
   "pygments_lexer": "ipython3",
   "version": "3.10.12"
  }
 },
 "nbformat": 4,
 "nbformat_minor": 5
}
