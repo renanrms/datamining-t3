{
 "cells": [
  {
   "cell_type": "markdown",
   "id": "e89f947b",
   "metadata": {},
   "source": [
    "# Análise Exploratória "
   ]
  },
  {
   "cell_type": "code",
   "execution_count": null,
   "id": "758f389e",
   "metadata": {},
   "outputs": [],
   "source": [
    "import os\n",
    "import sys\n",
    "sys.path.append(os.path.abspath(os.path.join(os.getcwd(), '..')))\n",
    "\n",
    "import geopandas as gpd\n",
    "\n",
    "from database.connection import connection"
   ]
  }
 ],
 "metadata": {
  "kernelspec": {
   "display_name": ".venv",
   "language": "python",
   "name": "python3"
  },
  "language_info": {
   "name": "python",
   "version": "3.10.12"
  }
 },
 "nbformat": 4,
 "nbformat_minor": 5
}
